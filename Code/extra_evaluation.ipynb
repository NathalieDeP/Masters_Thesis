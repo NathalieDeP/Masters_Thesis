{
  "cells": [
    {
      "cell_type": "code",
      "source": [
        "import pandas as pd"
      ],
      "metadata": {
        "id": "_JAKFHvw3nCP"
      },
      "execution_count": 18,
      "outputs": []
    },
    {
      "cell_type": "code",
      "execution_count": 19,
      "metadata": {
        "id": "UqCgCE8kGEcV"
      },
      "outputs": [],
      "source": [
        "\n",
        "data_qwen_small_short = pd.read_csv('additional_small_small_a.csv')\n",
        "data_qwen_small_med = pd.read_csv('additional_small_medium_a.csv')\n",
        "data_qwen_small_long = pd.read_csv('additional_small_long_a.csv')\n",
        "\n",
        "data_qwen_med_short = pd.read_csv('additional_med_small_a.csv')\n",
        "data_qwen_med_med = pd.read_csv('additional_med_medium_a.csv')\n",
        "data_qwen_med_long = pd.read_csv('additional_med_long_a.csv')\n",
        "\n",
        "\n",
        "\n",
        "medium_evals = {\n",
        "    \"small\": 0,\n",
        "    \"small_A\": 0,\n",
        "    \"medium\": 0,\n",
        "    \"medium_A\": 0,\n",
        "    \"long\": 0,\n",
        "    \"long_A\": 0\n",
        "}\n",
        "\n",
        "small_evals = {\n",
        "    \"small\": 0,\n",
        "    \"small_A\": 0,\n",
        "    \"medium\": 0,\n",
        "    \"medium_A\": 0,\n",
        "    \"long\": 0,\n",
        "    \"long_A\": 0\n",
        "}\n",
        "\n",
        "\n",
        "\n",
        "# Data and labels\n",
        "lst_data_small = [data_qwen_small_short, data_qwen_small_med, data_qwen_small_long]\n",
        "lst_data_med = [data_qwen_med_short, data_qwen_med_med, data_qwen_med_long]\n",
        "lst_labels = [\"small\", \"medium\", \"long\"]\n"
      ]
    },
    {
      "cell_type": "code",
      "execution_count": 20,
      "metadata": {
        "id": "8wP8ZZJiGOwE"
      },
      "outputs": [],
      "source": [
        "for data_list, dictt in zip([lst_data_small, lst_data_med], [small_evals, medium_evals]):\n",
        "    for data, label in zip(data_list, lst_labels):\n",
        "        for idx, line in data.iterrows():\n",
        "            if line[label] == \"D\":\n",
        "                dictt[label] += 1\n",
        "            if line[f\"{label}_a\"] == \"A\":\n",
        "                dictt[f\"{label}_A\"] += 1"
      ]
    },
    {
      "cell_type": "code",
      "execution_count": 22,
      "metadata": {
        "colab": {
          "base_uri": "https://localhost:8080/"
        },
        "id": "5Bu731-v-Wf4",
        "outputId": "24a59cc0-629b-4dda-a671-a8efb4791af4"
      },
      "outputs": [
        {
          "output_type": "stream",
          "name": "stdout",
          "text": [
            "SMALL QWEN\n",
            "------------\n",
            "Accuracy small: 0.71\n",
            "Accuracy small_A: 0.07\n",
            "Accuracy medium: 0.791\n",
            "Accuracy medium_A: 0.034\n",
            "Accuracy long: 0.778\n",
            "Accuracy long_A: 0.042\n",
            "\n",
            "MEDIUM QWEN\n",
            "-------------\n",
            "Accuracy small: 0.853\n",
            "Accuracy small_A: 0.09\n",
            "Accuracy medium: 0.985\n",
            "Accuracy medium_A: 0.007\n",
            "Accuracy long: 0.983\n",
            "Accuracy long_A: 0.005\n",
            "small_a\n",
            "D    702\n",
            "C    165\n",
            "A     70\n",
            "B     60\n",
            "T      1\n",
            "R      1\n",
            "P      1\n",
            "Name: count, dtype: int64\n"
          ]
        }
      ],
      "source": [
        "# Get accuracies\n",
        "print(\"SMALL QWEN\")\n",
        "print(\"------------\")\n",
        "print(\"Accuracy small:\", small_evals[\"small\"] / len(data_qwen_small_short))\n",
        "print(\"Accuracy small_A:\", small_evals[\"small_A\"] / len(data_qwen_small_short))\n",
        "print(\"Accuracy medium:\", small_evals[\"medium\"] / len(data_qwen_small_med))\n",
        "print(\"Accuracy medium_A:\", small_evals[\"medium_A\"] / len(data_qwen_small_med))\n",
        "print(\"Accuracy long:\", small_evals[\"long\"] / len(data_qwen_small_long))\n",
        "print(\"Accuracy long_A:\", small_evals[\"long_A\"] / len(data_qwen_small_long))\n",
        "\n",
        "print(\"\\nMEDIUM QWEN\")\n",
        "print(\"-------------\")\n",
        "print(\"Accuracy small:\", medium_evals[\"small\"] / len(data_qwen_med_short))\n",
        "print(\"Accuracy small_A:\", medium_evals[\"small_A\"] / len(data_qwen_med_short))\n",
        "print(\"Accuracy medium:\", medium_evals[\"medium\"] / len(data_qwen_med_med))\n",
        "print(\"Accuracy medium_A:\", medium_evals[\"medium_A\"] / len(data_qwen_med_med))\n",
        "print(\"Accuracy long:\", medium_evals[\"long\"] / len(data_qwen_med_long))\n",
        "print(\"Accuracy long_A:\", medium_evals[\"long_A\"] / len(data_qwen_med_long))\n"
      ]
    },
    {
      "cell_type": "code",
      "source": [
        "data_small_qwen = pd.read_csv('additional_small_harder.csv')\n",
        "data_med_qwen = pd.read_csv('additional_med_harder.csv')\n",
        "\n",
        "\n",
        "medium_evals = {\n",
        "    \"2\": 0,\n",
        "    \"2_A\": 0,\n",
        "    \"20\": 0,\n",
        "    \"20_A\": 0,\n",
        "    \"50\": 0,\n",
        "    \"50_A\": 0\n",
        "}\n",
        "\n",
        "small_evals = {\n",
        "    \"2\": 0,\n",
        "    \"2_A\": 0,\n",
        "    \"20\": 0,\n",
        "    \"20_A\": 0,\n",
        "    \"50\": 0,\n",
        "    \"50_A\": 0\n",
        "}\n",
        "\n",
        "\n",
        "# Data and labels\n",
        "datas = [data_small_qwen, data_med_qwen]\n",
        "evals = [small_evals, medium_evals]\n",
        "\n",
        "\n",
        "for data, dictt in zip(datas, evals):\n",
        "    for idx, line in data.iterrows():\n",
        "        if line[\"harder_context_2\"] == \"D\":\n",
        "            dictt[\"2\"] += 1\n",
        "        if line[\"harder_context_A_2\"] == \"A\":\n",
        "            dictt[\"2_A\"] += 1\n",
        "\n",
        "        if line[\"harder_context_20\"] == \"D\":\n",
        "            dictt[\"20\"] += 1\n",
        "        if line[\"harder_context_20_A\"] == \"A\":\n",
        "            dictt[\"20_A\"] += 1\n",
        "\n",
        "        if line[\"harder_context_50\"] == \"D\":\n",
        "            dictt[\"50\"] += 1\n",
        "        if line[\"harder_context_50_A\"] == \"A\":\n",
        "            dictt[\"50_A\"] += 1\n",
        "\n",
        "\n",
        "\n",
        "print(\"SMALL QWEN\")\n",
        "print(\"Accuracy 2:\", small_evals[\"2\"] / len(data_small_qwen))\n",
        "print(\"Accuracy 2_A:\", small_evals[\"2_A\"] / len(data_small_qwen))\n",
        "print(\"Accuracy 20:\", small_evals[\"20\"] / len(data_small_qwen))\n",
        "print(\"Accuracy 20_A:\", small_evals[\"20_A\"] / len(data_small_qwen))\n",
        "print(\"Accuracy 50:\", small_evals[\"50\"] / len(data_small_qwen))\n",
        "print(\"Accuracy 50_A:\", small_evals[\"50_A\"] / len(data_small_qwen))\n",
        "\n",
        "print(\"\\nMEDIUM QWEN\")\n",
        "print(\"Accuracy 2:\", medium_evals[\"2\"] / len(data_med_qwen))\n",
        "print(\"Accuracy 2_A:\", medium_evals[\"2_A\"] / len(data_med_qwen))\n",
        "print(\"Accuracy 20:\", medium_evals[\"20\"] / len(data_med_qwen))\n",
        "print(\"Accuracy 20_A:\", medium_evals[\"20_A\"] / len(data_med_qwen))\n",
        "print(\"Accuracy 50:\", medium_evals[\"50\"] / len(data_med_qwen))\n",
        "print(\"Accuracy 50_A:\", medium_evals[\"50_A\"] / len(data_med_qwen))\n"
      ],
      "metadata": {
        "colab": {
          "base_uri": "https://localhost:8080/"
        },
        "id": "esbsGuVvZaCY",
        "outputId": "6a19d262-dff5-48d0-95fd-4d62b573bfac"
      },
      "execution_count": null,
      "outputs": [
        {
          "output_type": "stream",
          "name": "stdout",
          "text": [
            "Accuracy 50: 0.923\n",
            "Accuracy 50_A: 0.859\n"
          ]
        }
      ]
    },
    {
      "cell_type": "code",
      "source": [
        "data_small_qwen = pd.read_csv('sys_small_support.csv')\n",
        "data_med_qwen = pd.read_csv('sys_med_support.csv')\n",
        "\n",
        "\n",
        "medium_evals = {\n",
        "    \"user\" : 0,\n",
        "    \"user_a\" : 0,\n",
        "    \"sys\" : 0,\n",
        "    \"sys_a\" : 0\n",
        "}\n",
        "\n",
        "small_evals = {\n",
        "    \"user\" : 0,\n",
        "    \"user_a\" : 0,\n",
        "    \"sys\" : 0,\n",
        "    \"sys_a\" : 0\n",
        "}\n",
        "\n",
        "\n",
        "# Data and labels\n",
        "datas = [data_small_qwen, data_med_qwen]\n",
        "evals = [small_evals, medium_evals]\n",
        "\n",
        "\n",
        "for data, dictt in zip(datas, evals):\n",
        "    for idx, line in data.iterrows():\n",
        "        if line[\"original_support\"] == \"D\":\n",
        "            dictt[\"user\"] += 1\n",
        "        if line[\"original_support_a\"] == \"A\":\n",
        "            dictt[\"user_a\"] += 1\n",
        "\n",
        "        if line[\"sys_original_support\"] == \"D\":\n",
        "            dictt[\"sys\"] += 1\n",
        "        if line[\"sys_original_support_a\"] == \"A\":\n",
        "            dictt[\"sys_a\"] += 1\n",
        "\n",
        "\n",
        "\n",
        "print(\"SMALL QWEN\")\n",
        "print(\"Accuracy user:\", small_evals[\"user\"] / len(data_small_qwen))\n",
        "print(\"Accuracy user_a:\", small_evals[\"user_a\"] / len(data_small_qwen))\n",
        "print(\"Accuracy sys:\", small_evals[\"sys\"] / len(data_small_qwen))\n",
        "print(\"Accuracy sys_a:\", small_evals[\"sys_a\"] / len(data_small_qwen))\n",
        "\n",
        "\n",
        "\n",
        "print(\"\\nMEDIUM QWEN\")\n",
        "print(\"Accuracy user:\", medium_evals[\"user\"] / len(data_med_qwen))\n",
        "print(\"Accuracy user_a:\", medium_evals[\"user_a\"] / len(data_med_qwen))\n",
        "print(\"Accuracy sys:\", medium_evals[\"sys\"] / len(data_med_qwen))\n",
        "print(\"Accuracy sys_a:\", medium_evals[\"sys_a\"] / len(data_med_qwen))\n",
        "\n"
      ],
      "metadata": {
        "colab": {
          "base_uri": "https://localhost:8080/"
        },
        "id": "LqdeDJg1cXQ8",
        "outputId": "4c62a9e2-8375-4f03-e645-8f47ee664c06"
      },
      "execution_count": null,
      "outputs": [
        {
          "output_type": "stream",
          "name": "stdout",
          "text": [
            "SMALL QWEN\n",
            "Accuracy user: 0.762\n",
            "Accuracy user_a: 0.376\n",
            "Accuracy sys: 0.77\n",
            "Accuracy sys_a: 0.377\n",
            "\n",
            "MEDIUM QWEN\n",
            "Accuracy user: 0.952\n",
            "Accuracy user_a: 0.96\n",
            "Accuracy sys: 0.959\n",
            "Accuracy sys_a: 0.957\n"
          ]
        }
      ]
    }
  ],
  "metadata": {
    "colab": {
      "provenance": []
    },
    "kernelspec": {
      "display_name": "Python 3",
      "name": "python3"
    },
    "language_info": {
      "name": "python"
    }
  },
  "nbformat": 4,
  "nbformat_minor": 0
}