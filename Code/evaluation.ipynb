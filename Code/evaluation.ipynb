{
  "cells": [
    {
      "cell_type": "code",
      "source": [
        "import pandas as pd"
      ],
      "metadata": {
        "id": "_JAKFHvw3nCP"
      },
      "execution_count": null,
      "outputs": []
    },
    {
      "cell_type": "code",
      "execution_count": null,
      "metadata": {
        "colab": {
          "base_uri": "https://localhost:8080/"
        },
        "id": "UqCgCE8kGEcV",
        "outputId": "1d81dca5-8e6d-424e-afd5-375faf547992"
      },
      "outputs": [
        {
          "output_type": "stream",
          "name": "stdout",
          "text": [
            "(12679, 13)\n"
          ]
        }
      ],
      "source": [
        "\n",
        "\n",
        "data_qwen_med = pd.read_csv('qwen_med.csv')\n",
        "data_qwen_small = pd.read_csv('qwen_small.csv')\n",
        "\n",
        "medium_evals = {\n",
        "    \"baseline\": 0,\n",
        "    \"question_context\": 0,\n",
        "    \"previous_questions_context\": 0,\n",
        "    \"baseline_A\": 0,\n",
        "    \"question_context_A\": 0,\n",
        "    \"previous_questions_context_A\": 0,\n",
        "    \"q_to_qprev_correct\": 0,\n",
        "    \"q_to_qprev_incorrect\": 0,\n",
        "}\n",
        "\n",
        "small_evals = {\n",
        "    \"baseline\": 0,\n",
        "    \"question_context\": 0,\n",
        "    \"previous_questions_context\": 0,\n",
        "    \"baseline_A\": 0,\n",
        "    \"question_context_A\": 0,\n",
        "    \"previous_questions_context_A\": 0,\n",
        "    \"q_to_qprev_correct\": 0,\n",
        "    \"q_to_qprev_incorrect\": 0,\n",
        "}\n",
        "\n",
        "\n",
        "column_names = [\n",
        "    \"question\", \"distractor3\", \"distractor1\", \"distractor2\",\n",
        "    \"correct_answer\", \"support\", \"baseline_answer\", \"question_context\",\n",
        "    \"previous_questions_context\", \"baseline_answer_A\", \"question_context_A\",\n",
        "    \"previous_questions_context_A\"\n",
        "]\n",
        "\n",
        "lst_dicts = [small_evals, medium_evals]\n",
        "lst_data = [data_qwen_small, data_qwen_med]\n",
        "harder_context = pd.DataFrame(columns=column_names)\n",
        "hrd_cont_rows = []\n",
        "print(data_qwen_med.shape)"
      ]
    },
    {
      "cell_type": "code",
      "execution_count": null,
      "metadata": {
        "colab": {
          "base_uri": "https://localhost:8080/"
        },
        "id": "8wP8ZZJiGOwE",
        "outputId": "b78b614a-f2af-4463-a083-914029a947de"
      },
      "outputs": [
        {
          "output_type": "stream",
          "name": "stdout",
          "text": [
            "{'baseline': 9699, 'question_context': 12096, 'previous_questions_context': 12240, 'baseline_A': 11499, 'question_context_A': 12189, 'previous_questions_context_A': 12141, 'q_to_qprev_correct': 369, 'q_to_qprev_incorrect': 245, 'all_3_correct': 11730, 'all_3_wrong': 511}\n",
            "{'baseline': 8207, 'question_context': 9782, 'previous_questions_context': 9885, 'baseline_A': 2972, 'question_context_A': 4888, 'previous_questions_context_A': 5227, 'q_to_qprev_correct': 3304, 'q_to_qprev_incorrect': 1745, 'all_3_correct': 6934, 'all_3_wrong': 5781}\n"
          ]
        }
      ],
      "source": [
        "for dictt, data in zip(lst_dicts, lst_data):\n",
        "    for idx, line in data.iterrows():\n",
        "      if line[\"baseline_answer\"] == \"D\":\n",
        "        dictt[\"baseline\"] += 1\n",
        "      if line[\"question_context\"] == \"D\":\n",
        "        dictt[\"question_context\"] += 1\n",
        "      if line[\"previous_questions_context\"] == \"D\":\n",
        "        dictt[\"previous_questions_context\"] += 1\n",
        "      if line[\"baseline_answer_A\"] == \"A\":\n",
        "        dictt[\"baseline_A\"] += 1\n",
        "      if line[\"question_context_A\"] == \"A\":\n",
        "        dictt[\"question_context_A\"] += 1\n",
        "      if line[\"previous_questions_context_A\"] == \"A\":\n",
        "        dictt[\"previous_questions_context_A\"] += 1\n",
        "\n",
        "\n",
        "      if ((line[\"question_context\"] != \"D\") and (line[\"previous_questions_context\"] == \"D\")):\n",
        "        dictt[\"q_to_qprev_correct\"] += 1\n",
        "      if ((line[\"question_context_A\"] != \"A\") and (line[\"previous_questions_context_A\"] == \"A\")):\n",
        "        dictt[\"q_to_qprev_correct\"] += 1\n",
        "      if ((line[\"question_context\"] == \"D\") and (line[\"previous_questions_context\"] != \"D\")):\n",
        "        dictt[\"q_to_qprev_incorrect\"] += 1\n",
        "        hrd_cont_rows.append(line)\n",
        "      if ((line[\"question_context\"] == \"A\") and (line[\"previous_questions_context\"] != \"A\")):\n",
        "        dictt[\"q_to_qprev_incorrect\"] += 1\n",
        "        hrd_cont_rows.append(line)\n",
        "\n",
        "\n",
        "\n",
        "harder_context = pd.DataFrame(hrd_cont_rows)\n",
        "harder_context = harder_context.drop_duplicates()\n",
        "print(medium_evals)\n",
        "print(small_evals)\n",
        "\n"
      ]
    },
    {
      "cell_type": "code",
      "execution_count": null,
      "metadata": {
        "colab": {
          "base_uri": "https://localhost:8080/"
        },
        "id": "5Bu731-v-Wf4",
        "outputId": "728d1613-5f08-466e-faa2-7ecf81f55772"
      },
      "outputs": [
        {
          "output_type": "stream",
          "name": "stdout",
          "text": [
            "SMALL QWEN\n",
            "Accuracy baseline: 0.6472907958040856\n",
            "Accuracy question_context: 0.7715119488918685\n",
            "Accuracy previous_questions_context: 0.7796356179509425\n",
            "Accuracy baseline_A: 0.2344033441123117\n",
            "Accuracy question_context_A: 0.38551936272576703\n",
            "Accuracy previous_questions_context_A: 0.41225648710466123\n",
            "Accuracy q_to_qprev_correct: 0.26058837447748245\n",
            "Accuracy q_to_qprev_incorrect: 0.1376291505639246\n",
            "Accuracy all_3_correct: 0.5468885558798012\n",
            "Accuracy all_3_wrong: 0.45595078476220524\n",
            "\n",
            " MEDIUM QWEN\n",
            "Accuracy baseline: 0.7649656913005758\n",
            "Accuracy question_context: 0.9540184557141731\n",
            "Accuracy previous_questions_context: 0.9653758182821989\n",
            "Accuracy baseline_A: 0.9069327234008991\n",
            "Accuracy question_context_A: 0.9613534190393564\n",
            "Accuracy previous_questions_context_A: 0.9575676315166811\n",
            "Accuracy q_to_qprev_correct: 0.02910324158056629\n",
            "Accuracy q_to_qprev_incorrect: 0.019323290480321793\n",
            "Accuracy all_3_correct: 0.925151825853774\n",
            "Accuracy all_3_wrong: 0.04030286300181402\n"
          ]
        }
      ],
      "source": [
        "# Get accuracies\n",
        "print(\"SMALL QWEN\")\n",
        "for exp, eval in small_evals.items():\n",
        "  print(\"Accuracy\", exp + \":\", eval/len(data_qwen_small))\n",
        "\n",
        "print(\"\\n MEDIUM QWEN\")\n",
        "for exp, eval in medium_evals.items():\n",
        "  print(\"Accuracy\", exp + \":\", eval/len(data_qwen_med))"
      ]
    },
    {
      "cell_type": "code",
      "execution_count": null,
      "metadata": {
        "colab": {
          "base_uri": "https://localhost:8080/"
        },
        "id": "Dt7TUFSTPOJD",
        "outputId": "8df172e9-fc1f-4277-f564-e8903cac86e9"
      },
      "outputs": [
        {
          "output_type": "stream",
          "name": "stdout",
          "text": [
            "(1989, 13)\n"
          ]
        }
      ],
      "source": [
        "harder_context.to_csv(\"hard_context.csv\")"
      ]
    },
    {
      "cell_type": "code",
      "source": [
        "# EVALUATION EXTRA EXPERMIMENTS\n",
        "extra_data_qwen_med1 = pd.read_csv('extra_qwen_med_1.csv')\n",
        "extra_data_qwen_med2 = pd.read_csv('extra_qwen_med_2.csv')\n",
        "extra_data_qwen_small1 = pd.read_csv('extra_qwen_small1.csv')\n",
        "extra_data_qwen_small2 = pd.read_csv('extra_qwen_small2.csv')\n",
        "\n",
        "\n",
        "for idx, row in extra_data_qwen_med1.iterrows():\n",
        "  extra_data_qwen_med1.loc[idx, \"position_middle_A\"] = extra_data_qwen_med2.loc[idx, \"position_middle_A\"]\n",
        "  extra_data_qwen_med1.loc[idx, \"position_end_A\"] = extra_data_qwen_med2.loc[idx, \"position_end_A\"]\n",
        "  extra_data_qwen_med1.loc[idx, \"prev_20\"] = extra_data_qwen_med2.loc[idx, \"prev_20\"]\n",
        "  extra_data_qwen_med1.loc[idx, \"prev_20_A\"] = extra_data_qwen_med2.loc[idx, \"prev_20_A\"]\n",
        "\n",
        "  extra_data_qwen_small1.loc[idx, \"position_middle_A\"] = extra_data_qwen_small2.loc[idx, \"position_middle_A\"]\n",
        "  extra_data_qwen_small1.loc[idx, \"position_end_A\"] = extra_data_qwen_small2.loc[idx, \"position_end_A\"]\n",
        "  extra_data_qwen_small1.loc[idx, \"prev_20\"] = extra_data_qwen_small2.loc[idx, \"prev_20\"]\n",
        "  extra_data_qwen_small1.loc[idx, \"prev_20_A\"] = extra_data_qwen_small2.loc[idx, \"prev_20_A\"]\n",
        "\n",
        "\n",
        "\n",
        "extra_medium_evals = {\n",
        "    \"harder_context\": 0,\n",
        "    \"harder_context_A\": 0,\n",
        "    \"position_middle\": 0,\n",
        "    \"position_end\": 0,\n",
        "    \"position_middle_A\": 0,\n",
        "    \"position_end_A\": 0,\n",
        "    \"prev_20\": 0,\n",
        "    \"prev_20_A\": 0,\n",
        "}\n",
        "\n",
        "extra_small_evals = {\n",
        "    \"harder_context\": 0,\n",
        "    \"harder_context_A\": 0,\n",
        "    \"position_middle\": 0,\n",
        "    \"position_end\": 0,\n",
        "    \"position_middle_A\": 0,\n",
        "    \"position_end_A\": 0,\n",
        "    \"prev_20\": 0,\n",
        "    \"prev_20_A\": 0,\n",
        "}\n",
        "\n",
        "\n",
        "lst_dicts = [extra_small_evals, extra_medium_evals]\n",
        "lst_data = [extra_data_qwen_small1, extra_data_qwen_med1]\n",
        "\n",
        "\n",
        "\n",
        "\n",
        "for dictt, data in zip(lst_dicts, lst_data):\n",
        "    for idx, line in data.iterrows():\n",
        "      if line[\"harder_context\"] == \"D\":\n",
        "        dictt[\"harder_context\"] += 1\n",
        "      if line[\"harder_context_A\"] == \"A\":\n",
        "        dictt[\"harder_context_A\"] += 1\n",
        "      if line[\"position_middle\"] == \"D\":\n",
        "        dictt[\"position_middle\"] += 1\n",
        "      if line[\"position_end\"] == \"D\":\n",
        "        dictt[\"position_end\"] += 1\n",
        "      if line[\"position_middle_A\"] == \"A\":\n",
        "        dictt[\"position_middle_A\"] += 1\n",
        "      if line[\"position_end_A\"] == \"A\":\n",
        "        dictt[\"position_end_A\"] += 1\n",
        "      if line[\"prev_20\"] == \"D\":\n",
        "        dictt[\"prev_20\"] += 1\n",
        "      if line[\"prev_20_A\"] == \"A\":\n",
        "        dictt[\"prev_20_A\"] += 1\n",
        "\n",
        "\n",
        "\n",
        "# Get accuracies\n",
        "print(\"SMALL QWEN\")\n",
        "for exp, eval in extra_small_evals.items():\n",
        "  print(\"Accuracy\", exp + \":\", eval/len(extra_data_qwen_small1))\n",
        "\n",
        "print(\"\\n MEDIUM QWEN\")\n",
        "for exp, eval in extra_medium_evals.items():\n",
        "  print(\"Accuracy\", exp + \":\", eval/len(extra_data_qwen_med1))\n",
        "\n"
      ],
      "metadata": {
        "id": "kTJfowU-D47C",
        "colab": {
          "base_uri": "https://localhost:8080/"
        },
        "outputId": "4b318da6-8e3f-4dfa-ab52-8ee84f2d4ffd"
      },
      "execution_count": null,
      "outputs": [
        {
          "output_type": "stream",
          "name": "stdout",
          "text": [
            "SMALL QWEN\n",
            "Accuracy harder_context: 0.2371638141809291\n",
            "Accuracy harder_context_A: 0.7305781213029419\n",
            "Accuracy position_middle: 0.7661487499014118\n",
            "Accuracy position_end: 0.7777427241896049\n",
            "Accuracy position_middle_A: 0.3605962615348214\n",
            "Accuracy position_end_A: 0.35207823960880197\n",
            "Accuracy prev_20: 0.7710387254515341\n",
            "Accuracy prev_20_A: 0.45918447827115705\n",
            "\n",
            " MEDIUM QWEN\n",
            "Accuracy harder_context: 0.9207350737439861\n",
            "Accuracy harder_context_A: 0.9513368562189447\n",
            "Accuracy position_middle: 0.9662433945894786\n",
            "Accuracy position_end: 0.9675841943370929\n",
            "Accuracy position_middle_A: 0.9497594447511634\n",
            "Accuracy position_end_A: 0.9507847622052212\n",
            "Accuracy prev_20: 0.9615900307595237\n",
            "Accuracy prev_20_A: 0.9440807634671504\n"
          ]
        }
      ]
    }
  ],
  "metadata": {
    "colab": {
      "provenance": []
    },
    "kernelspec": {
      "display_name": "Python 3",
      "name": "python3"
    },
    "language_info": {
      "name": "python"
    }
  },
  "nbformat": 4,
  "nbformat_minor": 0
}