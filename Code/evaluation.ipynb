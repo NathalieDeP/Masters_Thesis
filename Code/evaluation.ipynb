{
  "nbformat": 4,
  "nbformat_minor": 0,
  "metadata": {
    "colab": {
      "provenance": []
    },
    "kernelspec": {
      "name": "python3",
      "display_name": "Python 3"
    },
    "language_info": {
      "name": "python"
    }
  },
  "cells": [
    {
      "cell_type": "code",
      "execution_count": 25,
      "metadata": {
        "colab": {
          "base_uri": "https://localhost:8080/"
        },
        "id": "UqCgCE8kGEcV",
        "outputId": "ad838b6f-4c8e-40aa-9366-244e945b8ed6"
      },
      "outputs": [
        {
          "output_type": "stream",
          "name": "stdout",
          "text": [
            "(12679, 13)\n"
          ]
        }
      ],
      "source": [
        "import pandas as pd\n",
        "\n",
        "data_qwen_med = pd.read_csv('qwen_med.csv')\n",
        "data_qwen_small = pd.read_csv('qwen_small.csv')\n",
        "\n",
        "med_baseline, med_q_context, med_prev_q_context, med_baseline_a, med_q_context_a,med_prev_q_context_a, med_q_to_qprev_correct, med_q_to_qprev_incorrect, med_all_3_correct, med_all_3_wrong = 0,0,0,0,0,0,0,0,0,0\n",
        "small_baseline, small_q_context, small_prev_q_context, small_baseline_a, small_q_context_a,small_prev_q_context_a, small_q_to_qprev_correct, small_q_to_qprev_incorrect, small_all_3_correct, small_all_3_wrong = 0,0,0,0,0,0,0,0,0,0\n",
        "\n",
        "column_names = [\n",
        "    \"question\", \"distractor3\", \"distractor1\", \"distractor2\",\n",
        "    \"correct_answer\", \"support\", \"baseline_answer\", \"question_context\",\n",
        "    \"previous_questions_context\", \"baseline_answer_A\", \"question_context_A\",\n",
        "    \"previous_questions_context_A\"\n",
        "]\n",
        "\n",
        "harder_context = pd.DataFrame(columns=column_names)\n",
        "print(data_qwen_med.shape)"
      ]
    },
    {
      "cell_type": "code",
      "source": [
        "\n",
        "for idx, line in data_qwen_small.iterrows():\n",
        "  # Get eval stuff\n",
        "  if line[\"baseline_answer\"] == \"D\":\n",
        "    small_baseline += 1\n",
        "  if line[\"question_context\"] == \"D\":\n",
        "    small_q_context += 1\n",
        "  if line[\"previous_questions_context\"] == \"D\":\n",
        "    small_prev_q_context += 1\n",
        "  if line[\"baseline_answer_A\"] == \"A\":\n",
        "    small_baseline_a += 1\n",
        "  if line[\"question_context_A\"] == \"A\":\n",
        "    small_q_context_a += 1\n",
        "  if line[\"previous_questions_context_A\"] == \"A\":\n",
        "    small_prev_q_context_a += 1\n",
        "  if (line[\"baseline_answer\"] == \"D\") and (line[\"question_context\"] == \"D\") and (line[\"previous_questions_context\"] == \"D\"):\n",
        "    small_all_3_correct += 1\n",
        "  if (line[\"baseline_answer\"] != \"D\") and (line[\"question_context\"] != \"D\") and (line[\"previous_questions_context\"] != \"D\"):\n",
        "    small_all_3_wrong += 1\n",
        "  if (line[\"baseline_answer_A\"] == \"A\") and (line[\"question_context_A\"] == \"A\") and (line[\"previous_questions_context_A\"] == \"A\"):\n",
        "    small_all_3_correct += 1\n",
        "  if (line[\"baseline_answer_A\"] != \"A\") and (line[\"question_context_A\"] != \"A\") and (line[\"previous_questions_context_A\"] != \"A\"):\n",
        "    small_all_3_wrong += 1\n",
        "\n",
        "\n",
        "\n",
        "  if ((line[\"question_context\"] != \"D\") and (line[\"previous_questions_context\"] == \"D\")):\n",
        "    small_q_to_qprev_correct += 1\n",
        "  if ((line[\"question_context_A\"] != \"A\") and (line[\"previous_questions_context_A\"] == \"A\")):\n",
        "    small_q_to_qprev_correct += 1\n",
        "\n",
        "  if ((line[\"question_context\"] == \"D\") and (line[\"previous_questions_context\"] != \"D\")):\n",
        "    small_q_to_qprev_incorrect += 1\n",
        "  if ((line[\"question_context\"] == \"A\") and (line[\"previous_questions_context\"] != \"A\")):\n",
        "    small_q_to_qprev_incorrect += 1\n",
        "\n",
        "    # Get cases where the inprovement decreases with more context\n",
        "  if ((line[\"question_context\"] == \"D\") and (line[\"previous_questions_context\"] != \"D\")) or ((line[\"question_context_A\"] == \"A\") and (line[\"previous_questions_context_A\"] != \"A\")):\n",
        "    harder_context = pd.concat([harder_context, line.to_frame().T], ignore_index=True)\n",
        "\n",
        "\n",
        "\n",
        "for idx, line in data_qwen_med.iterrows():\n",
        "  # Get eval stuff\n",
        "  if line[\"baseline_answer\"] == \"D\":\n",
        "    med_baseline += 1\n",
        "  if line[\"question_context\"] == \"D\":\n",
        "    med_q_context += 1\n",
        "  if line[\"previous_questions_context\"] == \"D\":\n",
        "    med_prev_q_context += 1\n",
        "  if line[\"baseline_answer_A\"] == \"A\":\n",
        "    med_baseline_a += 1\n",
        "  if line[\"question_context_A\"] == \"A\":\n",
        "    med_q_context_a += 1\n",
        "  if line[\"previous_questions_context_A\"] == \"A\":\n",
        "    med_prev_q_context_a += 1\n",
        "  if (line[\"baseline_answer\"] == \"D\") and (line[\"question_context\"] == \"D\") and (line[\"previous_questions_context\"] == \"D\"):\n",
        "    med_all_3_correct += 1\n",
        "  if (line[\"baseline_answer\"] != \"D\") and (line[\"question_context\"] != \"D\") and (line[\"previous_questions_context\"] != \"D\"):\n",
        "    med_all_3_wrong += 1\n",
        "\n",
        "  if (line[\"baseline_answer_A\"] == \"A\") and (line[\"question_context_A\"] == \"A\") and (line[\"previous_questions_context_A\"] == \"A\"):\n",
        "    med_all_3_correct += 1\n",
        "  if (line[\"baseline_answer_A\"] != \"A\") and (line[\"question_context_A\"] != \"A\") and (line[\"previous_questions_context_A\"] != \"A\"):\n",
        "    med_all_3_wrong += 1\n",
        "\n",
        "\n",
        "\n",
        "  if ((line[\"question_context\"] != \"D\") and (line[\"previous_questions_context\"] == \"D\")):\n",
        "    med_q_to_qprev_correct += 1\n",
        "  if ((line[\"question_context_A\"] != \"A\") and (line[\"previous_questions_context_A\"] == \"A\")):\n",
        "    med_q_to_qprev_correct += 1\n",
        "\n",
        "  if ((line[\"question_context\"] == \"D\") and (line[\"previous_questions_context\"] != \"D\")):\n",
        "    med_q_to_qprev_incorrect += 1\n",
        "  if ((line[\"question_context\"] == \"A\") and (line[\"previous_questions_context\"] != \"A\")):\n",
        "    med_q_to_qprev_incorrect += 1\n",
        "\n",
        "\n",
        "\n",
        "  # Get cases where the inprovement decreases with more context\n",
        "  if ((line[\"question_context\"] == \"D\") and (line[\"previous_questions_context\"] != \"D\")) or ((line[\"question_context_A\"] == \"A\") and (line[\"previous_questions_context_A\"] != \"A\")):\n",
        "    if line[\"question_context\"] not in harder_context[\"question_context\"].values:\n",
        "      harder_context = pd.concat([harder_context, line.to_frame().T], ignore_index=True)\n",
        "\n",
        "\n",
        "print(small_baseline, small_q_context, small_prev_q_context, small_baseline_a, small_q_context_a,small_prev_q_context_a, small_q_to_qprev_correct, small_q_to_qprev_incorrect, small_all_3_correct, small_all_3_wrong)\n",
        "print(med_baseline, med_q_context, med_prev_q_context, med_baseline_a, med_q_context_a,med_prev_q_context_a, med_q_to_qprev_correct, med_q_to_qprev_incorrect, med_all_3_correct, med_all_3_wrong)\n"
      ],
      "metadata": {
        "colab": {
          "base_uri": "https://localhost:8080/"
        },
        "id": "8wP8ZZJiGOwE",
        "outputId": "ece32639-43d2-4c25-920f-446b4296bd93"
      },
      "execution_count": 26,
      "outputs": [
        {
          "output_type": "stream",
          "name": "stdout",
          "text": [
            "8207 9782 9885 2972 4888 5227 3304 1745 7712 6264\n",
            "9699 12096 12240 11499 12189 12141 369 245 20872 622\n"
          ]
        }
      ]
    },
    {
      "cell_type": "code",
      "source": [
        "# Get accuracies\n",
        "smalls = [small_baseline, small_q_context, small_prev_q_context, small_baseline_a, small_q_context_a,small_prev_q_context_a]\n",
        "meds = [med_baseline, med_q_context, med_prev_q_context, med_baseline_a, med_q_context_a,med_prev_q_context_a]\n",
        "\n",
        "print(\"SMALL\")\n",
        "for s in smalls:\n",
        "  print(\"Accuracy\", s, s/12679)\n",
        "\n",
        "print(\"\\n MEDIUM\")\n",
        "for m in meds:\n",
        "  print(\"Accuracy:\",m, m/12679)"
      ],
      "metadata": {
        "colab": {
          "base_uri": "https://localhost:8080/"
        },
        "id": "5Bu731-v-Wf4",
        "outputId": "8e65937e-df89-4ada-98ea-de6c0ead1859"
      },
      "execution_count": 29,
      "outputs": [
        {
          "output_type": "stream",
          "name": "stdout",
          "text": [
            "SMALL\n",
            "Accuracy 8207 0.6472907958040856\n",
            "Accuracy 9782 0.7715119488918685\n",
            "Accuracy 9885 0.7796356179509425\n",
            "Accuracy 2972 0.2344033441123117\n",
            "Accuracy 4888 0.38551936272576703\n",
            "Accuracy 5227 0.41225648710466123\n",
            "\n",
            " MEDIUM\n",
            "Accuracy: 9699 0.7649656913005758\n",
            "Accuracy: 12096 0.9540184557141731\n",
            "Accuracy: 12240 0.9653758182821989\n",
            "Accuracy: 11499 0.9069327234008991\n",
            "Accuracy: 12189 0.9613534190393564\n",
            "Accuracy: 12141 0.9575676315166811\n"
          ]
        }
      ]
    },
    {
      "cell_type": "code",
      "source": [
        "print(harder_context.shape)\n",
        "harder_context.to_csv(\"harder_context.csv\")\n"
      ],
      "metadata": {
        "colab": {
          "base_uri": "https://localhost:8080/"
        },
        "id": "Dt7TUFSTPOJD",
        "outputId": "e8c07936-e34a-42c9-8f7f-f59bd49a9013"
      },
      "execution_count": 30,
      "outputs": [
        {
          "output_type": "stream",
          "name": "stdout",
          "text": [
            "(2720, 13)\n"
          ]
        }
      ]
    },
    {
      "cell_type": "code",
      "source": [],
      "metadata": {
        "id": "1cOGo6DNpQF5"
      },
      "execution_count": null,
      "outputs": []
    }
  ]
}